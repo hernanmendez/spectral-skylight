{
 "cells": [
  {
   "cell_type": "code",
   "execution_count": 1,
   "id": "93ebffdd",
   "metadata": {},
   "outputs": [],
   "source": [
    "import torch\n",
    "import random\n",
    "import pickle\n",
    "from get_tensor import get_samples_per_sky\n",
    "from cnn_models.model_templates import SkylightData, TrainingHelper\n",
    "from cnn_models.sixth_gen import SixthGen"
   ]
  },
  {
   "cell_type": "code",
   "execution_count": 2,
   "id": "616ca586",
   "metadata": {},
   "outputs": [],
   "source": [
    "skies_for_demo = {  # first 4 clear, next 4 scattered, last 3 overcast\n",
    "    \"5/26/2013 15:15\",\n",
    "    \"5/27/2013 10:15\",\n",
    "    \"7/26/2013 13:15\",\n",
    "    \"9/24/2013 15:39\",\n",
    "    \"5/12/2013 13:00\",\n",
    "    \"5/26/2013 12:30\",\n",
    "    \"7/29/2013 10:00\",\n",
    "    \"9/26/2013 11:50\",\n",
    "    \"4/14/2013 11:36\",\n",
    "    \"4/15/2013 08:40\",\n",
    "    \"7/29/2013 13:30\",\n",
    "}\n",
    "\n",
    "scattered_skies_data = SkylightData(\n",
    "    \"other_data/coords-scattered-hdr.csv\", get_samples_per_sky\n",
    ")\n",
    "\n",
    "\n",
    "load = True\n",
    "if load:\n",
    "    with open(\"other_data/development_data_save\", \"rb\") as f:\n",
    "        development_data = pickle.load(f)\n",
    "else:\n",
    "    with open(\"other_data/development_data_save\", \"wb\") as f:\n",
    "        development_data = scattered_skies_data.create_development_data(\n",
    "            training_ratio=0.75, excluded_skies=skies_for_demo\n",
    "        )\n",
    "        pickle.dump(development_data, f)"
   ]
  },
  {
   "cell_type": "code",
   "execution_count": 3,
   "id": "c9eba870",
   "metadata": {},
   "outputs": [],
   "source": [
    "device = torch.device(\"cuda\" if torch.cuda.is_available() else \"cpu\")\n",
    "model = SixthGen()\n",
    "model.to(device)\n",
    "\n",
    "lr = 0.000001\n",
    "helper = TrainingHelper(\n",
    "    data=development_data,\n",
    "    model=model,\n",
    "    optimizer=torch.optim.Adam(model.parameters(), lr=lr),\n",
    "    criterion=torch.nn.MSELoss(reduction=\"sum\"),\n",
    "    device=device,\n",
    ")"
   ]
  },
  {
   "cell_type": "code",
   "execution_count": null,
   "id": "5ae63cf9",
   "metadata": {},
   "outputs": [
    {
     "name": "stdout",
     "output_type": "stream",
     "text": [
      "0\tTraining Loss: 64454.11\t\tTesting Loss: 9601.85\n",
      "\t               +0.00%\t                      +0.00%\n",
      "Minutes Training: 0\n",
      "\n",
      "1\tTraining Loss: 63785.65\t\tTesting Loss: 9543.40\n",
      "\t               -1.04%\t                      -0.61%\n",
      "Minutes Training: 0\n",
      "\n",
      "2\tTraining Loss: 62952.71\t\tTesting Loss: 9496.13\n",
      "\t               -2.33%\t                      -1.10%\n",
      "Minutes Training: 0\n",
      "\n",
      "3\tTraining Loss: 61506.60\t\tTesting Loss: 9379.37\n",
      "\t               -4.57%\t                      -2.32%\n",
      "Minutes Training: 0\n",
      "\n",
      "4\tTraining Loss: 58796.46\t\tTesting Loss: 8814.44\n",
      "\t               -8.78%\t                      -8.20%\n",
      "Minutes Training: 1\n",
      "\n",
      "5\tTraining Loss: 54133.09\t\tTesting Loss: 7438.25\n",
      "\t               -16.01%\t                      -22.53%\n",
      "Minutes Training: 1\n",
      "\n",
      "6\tTraining Loss: 48057.16\t\tTesting Loss: 5952.30\n",
      "\t               -25.44%\t                      -38.01%\n",
      "Minutes Training: 1\n",
      "\n"
     ]
    }
   ],
   "source": [
    "report = helper.training_loop(\n",
    "    number_of_epochs=200, batch_size=420, model_used=\"SixthGen\", lr=lr\n",
    ")"
   ]
  },
  {
   "cell_type": "code",
   "execution_count": null,
   "id": "c597d346",
   "metadata": {},
   "outputs": [],
   "source": [
    "model.to(torch.device(\"cpu\"))\n",
    "\n",
    "pred = model(development_data.test_data.x_image_branch, development_data.test_data.x_feature_branch).detach()\n",
    "\n",
    "truth = development_data.test_data.y"
   ]
  },
  {
   "cell_type": "code",
   "execution_count": null,
   "id": "61730248",
   "metadata": {},
   "outputs": [],
   "source": [
    "diff_squared = ((pred - truth) * development_data.data_aggregates.data_range) ** 2\n",
    "diff_squared.sum(dim=1).mean().sqrt() * 100"
   ]
  },
  {
   "cell_type": "code",
   "execution_count": null,
   "id": "83e6cc60",
   "metadata": {},
   "outputs": [],
   "source": [
    "report.save('other_data')"
   ]
  }
 ],
 "metadata": {
  "kernelspec": {
   "display_name": "Python 3",
   "language": "python",
   "name": "python3"
  },
  "language_info": {
   "codemirror_mode": {
    "name": "ipython",
    "version": 3
   },
   "file_extension": ".py",
   "mimetype": "text/x-python",
   "name": "python",
   "nbconvert_exporter": "python",
   "pygments_lexer": "ipython3",
   "version": "3.8.8"
  }
 },
 "nbformat": 4,
 "nbformat_minor": 5
}
