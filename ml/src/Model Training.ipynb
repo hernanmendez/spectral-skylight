{
 "cells": [
  {
   "cell_type": "code",
   "execution_count": 1,
   "id": "d802ca83",
   "metadata": {},
   "outputs": [],
   "source": [
    "import torch\n",
    "import random\n",
    "import pickle\n",
    "from get_tensor import get_samples_per_sky\n",
    "from cnn_models.model_templates import SkylightData, TrainingHelper\n",
    "from cnn_models.sixth_gen import SixthGen"
   ]
  },
  {
   "cell_type": "code",
   "execution_count": 2,
   "id": "36e9268c",
   "metadata": {},
   "outputs": [],
   "source": [
    "skies_for_demo = {  # first 4 clear, next 4 scattered, last 3 overcast\n",
    "    \"5/26/2013 15:15\",\n",
    "    \"5/27/2013 10:15\",\n",
    "    \"7/26/2013 13:15\",\n",
    "    \"9/24/2013 15:39\",\n",
    "    \"5/12/2013 13:00\",\n",
    "    \"5/26/2013 12:30\",\n",
    "    \"7/29/2013 10:00\",\n",
    "    \"9/26/2013 11:50\",\n",
    "    \"4/14/2013 11:36\",\n",
    "    \"4/15/2013 08:40\",\n",
    "    \"7/29/2013 13:30\",\n",
    "}\n",
    "\n",
    "scattered_skies_data = SkylightData(\n",
    "    \"other_data/coords-scattered-hdr.csv\", get_samples_per_sky\n",
    ")\n",
    "\n",
    "\n",
    "load = True\n",
    "if load:\n",
    "    with open(\"other_data/development_data_save\", \"rb\") as f:\n",
    "        development_data = pickle.load(f)\n",
    "else:\n",
    "    with open(\"other_data/development_data_save\", \"wb\") as f:\n",
    "        development_data = scattered_skies_data.create_development_data(\n",
    "            training_ratio=0.75, excluded_skies=skies_for_demo\n",
    "        )\n",
    "        pickle.dump(development_data, f)"
   ]
  },
  {
   "cell_type": "code",
   "execution_count": 3,
   "id": "74954fe2",
   "metadata": {},
   "outputs": [],
   "source": [
    "device = torch.device(\"cuda\" if torch.cuda.is_available() else \"cpu\")\n",
    "model = SixthGen()\n",
    "model.to(device)\n",
    "\n",
    "lr = 0.000001\n",
    "helper = TrainingHelper(\n",
    "    data=development_data,\n",
    "    model=model,\n",
    "    optimizer=torch.optim.Adam(model.parameters(), lr=lr),\n",
    "    criterion=torch.nn.MSELoss(reduction=\"sum\"),\n",
    "    device=device,\n",
    ")"
   ]
  },
  {
   "cell_type": "code",
   "execution_count": null,
   "id": "ed71bd7a",
   "metadata": {},
   "outputs": [
    {
     "name": "stdout",
     "output_type": "stream",
     "text": [
      "0\tTraining Loss: 64412.71\t\tTesting Loss: 9599.69\n",
      "\t               +0.00%\t                      +0.00%\n",
      "Minutes Training: 0\n",
      "\n"
     ]
    }
   ],
   "source": [
    "report = helper.training_loop(\n",
    "    number_of_epochs=200, batch_size=420, model_used=\"SixthGen\", lr=lr\n",
    ")"
   ]
  },
  {
   "cell_type": "code",
   "execution_count": null,
   "id": "f2a426ce",
   "metadata": {},
   "outputs": [],
   "source": [
    "model.to(torch.device(\"cpu\"))\n",
    "\n",
    "pred = model(development_data.test_data.x_image_branch, development_data.test_data.x_feature_branch).detach()\n",
    "\n",
    "truth = development_data.test_data.y"
   ]
  },
  {
   "cell_type": "code",
   "execution_count": null,
   "id": "8d55262e",
   "metadata": {},
   "outputs": [],
   "source": [
    "diff_squared = ((pred - truth) * development_data.data_aggregates.data_range) ** 2\n",
    "diff_squared.sum(dim=1).mean().sqrt() * 100"
   ]
  },
  {
   "cell_type": "code",
   "execution_count": null,
   "id": "3f2a44c1",
   "metadata": {},
   "outputs": [],
   "source": [
    "report.save('other_data')"
   ]
  }
 ],
 "metadata": {
  "kernelspec": {
   "display_name": "Python 3",
   "language": "python",
   "name": "python3"
  },
  "language_info": {
   "codemirror_mode": {
    "name": "ipython",
    "version": 3
   },
   "file_extension": ".py",
   "mimetype": "text/x-python",
   "name": "python",
   "nbconvert_exporter": "python",
   "pygments_lexer": "ipython3",
   "version": "3.8.8"
  }
 },
 "nbformat": 4,
 "nbformat_minor": 5
}
